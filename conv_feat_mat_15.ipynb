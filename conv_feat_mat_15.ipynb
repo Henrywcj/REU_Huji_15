{
 "cells": [
  {
   "cell_type": "code",
   "execution_count": 42,
   "metadata": {},
   "outputs": [],
   "source": [
    "from __future__ import print_function\n",
    "import sys\n",
    "import os as os\n",
    "os.environ['THEANO_FLAGS'] = \"device=gpu\" + sys.argv[2]\n",
    "from keras.layers import Input, Conv2D, Convolution2D, MaxPooling2D, UpSampling2D, AveragePooling2D, BatchNormalization, Dropout,Dense, Reshape,Flatten, Deconvolution2D\n",
    "from keras.models import Model\n",
    "import numpy as np\n",
    "from keras.models import model_from_json\n",
    "from keras import backend as K\n",
    "#import matplotlib.pyplot as plt\n",
    "#import matplotlib.image as mpimg\n",
    "import glob as glob\n",
    "import numpy as np\n",
    "import random"
   ]
  },
  {
   "cell_type": "code",
   "execution_count": 43,
   "metadata": {},
   "outputs": [],
   "source": [
    "path_data = \"./folder5\"\n",
    "name = \"/Huji_optical_flow_30_frame\"\n",
    "folder = sorted(glob.glob(path_data+name+'/normalized*lstm*'))"
   ]
  },
  {
   "cell_type": "code",
   "execution_count": 44,
   "metadata": {},
   "outputs": [
    {
     "data": {
      "text/plain": [
       "['./folder5/Huji_optical_flow_30_frame/normalized_Huji_Ariel_16_30_lstm_ver4_2',\n",
       " './folder5/Huji_optical_flow_30_frame/normalized_Huji_Ariel_1_30_lstm_ver4_2',\n",
       " './folder5/Huji_optical_flow_30_frame/normalized_Huji_Ariel_20_30_lstm_ver4_2',\n",
       " './folder5/Huji_optical_flow_30_frame/normalized_Huji_Ariel_2_30_lstm_ver4_2',\n",
       " './folder5/Huji_optical_flow_30_frame/normalized_Huji_Ariel_3_30_lstm_ver4_2',\n",
       " './folder5/Huji_optical_flow_30_frame/normalized_Huji_Ariel_4_30_lstm_ver4_2',\n",
       " './folder5/Huji_optical_flow_30_frame/normalized_Huji_Ariel_5_30_lstm_ver4_2',\n",
       " './folder5/Huji_optical_flow_30_frame/normalized_Huji_Ariel_6_30_lstm_ver4_2',\n",
       " './folder5/Huji_optical_flow_30_frame/normalized_Huji_Ariel_7_30_lstm_ver4_2',\n",
       " './folder5/Huji_optical_flow_30_frame/normalized_Huji_Ariel_9_30_lstm_ver4_2',\n",
       " './folder5/Huji_optical_flow_30_frame/normalized_Huji_Chetan_1_30_lstm_ver4_2']"
      ]
     },
     "execution_count": 44,
     "metadata": {},
     "output_type": "execute_result"
    }
   ],
   "source": [
    "folder"
   ]
  },
  {
   "cell_type": "code",
   "execution_count": 46,
   "metadata": {},
   "outputs": [
    {
     "name": "stdout",
     "output_type": "stream",
     "text": [
      "./folder5/Huji_optical_flow_30_frame/normalized_Huji_Ariel_16_30_lstm_ver4_2\n",
      "./folder5/Huji_optical_flow_30_frame/normalized_Huji_Ariel_1_30_lstm_ver4_2\n",
      "./folder5/Huji_optical_flow_30_frame/normalized_Huji_Ariel_20_30_lstm_ver4_2\n",
      "./folder5/Huji_optical_flow_30_frame/normalized_Huji_Ariel_2_30_lstm_ver4_2\n",
      "./folder5/Huji_optical_flow_30_frame/normalized_Huji_Ariel_3_30_lstm_ver4_2\n",
      "./folder5/Huji_optical_flow_30_frame/normalized_Huji_Ariel_4_30_lstm_ver4_2\n",
      "./folder5/Huji_optical_flow_30_frame/normalized_Huji_Ariel_5_30_lstm_ver4_2\n",
      "./folder5/Huji_optical_flow_30_frame/normalized_Huji_Ariel_6_30_lstm_ver4_2\n",
      "./folder5/Huji_optical_flow_30_frame/normalized_Huji_Ariel_7_30_lstm_ver4_2\n",
      "./folder5/Huji_optical_flow_30_frame/normalized_Huji_Ariel_9_30_lstm_ver4_2\n",
      "./folder5/Huji_optical_flow_30_frame/normalized_Huji_Chetan_1_30_lstm_ver4_2\n"
     ]
    }
   ],
   "source": [
    "file = []\n",
    "x = None\n",
    "for i in folder:\n",
    "    print(i)\n",
    "    temp=glob.glob(i+'/*x*.npy')[0]\n",
    "    x = np.load(temp)\n",
    "    first = x[:, :3000] #fps\n",
    "    first = np.reshape(first,(first.shape[0]*first.shape[1]//100, 100))\n",
    "    second = x[:, 3000:6000] #fps/2\n",
    "    second = np.reshape(second,(second.shape[0]*second.shape[1]//100, 100))\n",
    "    third = x[:, 6000:] #fps/4\n",
    "    third = np.reshape(third,(third.shape[0]*third.shape[1]//100, 100))\n",
    "    \n",
    "    # Concatenate LSTM features of different time scales\n",
    "    result_x = np.concatenate((first,second,third), axis = 1)\n",
    "    # Save it\n",
    "    np.save(i+'/feat_x_new.npy', result_x)\n",
    "    \n",
    "    # Same thing for y\n",
    "    temp=glob.glob(i+'/*y*.npy')[0]\n",
    "    y = np.load(temp)\n",
    "    first = y[:, :3000] #fps\n",
    "    first = np.reshape(first,(first.shape[0]*first.shape[1]//100, 100))\n",
    "    second = y[:, 3000:6000] #fps/2\n",
    "    second = np.reshape(second,(second.shape[0]*second.shape[1]//100, 100))\n",
    "    third = y[:, 6000:] #fps/4\n",
    "    third = np.reshape(third,(third.shape[0]*third.shape[1]//100, 100))\n",
    "    \n",
    "    # Concatenate LSTM features of different time scales\n",
    "    result_y = np.concatenate((first,second,third), axis = 1)\n",
    "    np.save(i+'/feat_y_new.npy', result_y)\n",
    "    print('done')"
   ]
  }
 ],
 "metadata": {
  "kernelspec": {
   "display_name": "Python 3",
   "language": "python",
   "name": "python3"
  },
  "language_info": {
   "codemirror_mode": {
    "name": "ipython",
    "version": 3
   },
   "file_extension": ".py",
   "mimetype": "text/x-python",
   "name": "python",
   "nbconvert_exporter": "python",
   "pygments_lexer": "ipython3",
   "version": "3.5.4"
  }
 },
 "nbformat": 4,
 "nbformat_minor": 2
}
